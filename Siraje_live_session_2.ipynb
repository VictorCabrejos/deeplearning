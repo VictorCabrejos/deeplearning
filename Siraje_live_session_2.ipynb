{
 "cells": [
  {
   "cell_type": "code",
   "execution_count": 5,
   "metadata": {
    "collapsed": false
   },
   "outputs": [
    {
     "name": "stdout",
     "output_type": "stream",
     "text": [
      "After 1000 iterations, b = 1156.2682843, m = 1156.2682843, error = 1156.2682843\n"
     ]
    }
   ],
   "source": [
    "from numpy import *\n",
    "\n",
    "def compute_error_for_given_points(b,m,points):\n",
    "    \n",
    "    #Implementing the sum of squared errors formula\n",
    "    totalError = 0\n",
    "    for i in range(0, len(points)):\n",
    "        x = points[i, 0]\n",
    "        y = points[i, 1]\n",
    "        \n",
    "        #equation\n",
    "        totalError += (y - (m *x +b))**2 \n",
    "    #get average    \n",
    "    return totalError / float(len(points))\n",
    "\n",
    "\n",
    "def step_gradient(b_current, m_current, points, learning_rate):\n",
    "    #gradient descent\n",
    "    b_gradient = 0\n",
    "    m_gradient = 0\n",
    "    N = float(len(points))\n",
    "    for i in range(0, len(points)):\n",
    "        x = points[i, 0]\n",
    "        y = points[i, 1]\n",
    "\n",
    "        m_gradient += - x * (y - (m_current * x + b_current))\n",
    "        b_gradient += - (y * (m_current * x + b_current))\n",
    "    \n",
    "    # update our b and m values using our partial derivatives\n",
    "    # gradient a value to update the initial b and m values\n",
    "    # learning rate = predefined how fast to converge - time and balance\n",
    "    new_b = b_current - (learning_rate * (2 / N * b_gradient))\n",
    "    new_m = m_current - (learning_rate * (2 / N * m_gradient))\n",
    "    return [new_b, new_m]\n",
    "      \n",
    "    \n",
    "def gradient_descent_runner(points, starting_b, starting_m, learning_rate, num_iterations):\n",
    "\n",
    "    #starting b and m\n",
    "    b = starting_b\n",
    "    m = starting_m\n",
    "    \n",
    "    #gradient descent\n",
    "    for i in range(num_iterations):\n",
    "        #update b and m with the new more accurate b and m by performing\n",
    "        #this gradient step\n",
    "        b, m = step_gradient(b, m, array(points), learning_rate)\n",
    "        \n",
    "    return [b,m]\n",
    "\n",
    "\n",
    "def run():\n",
    "    #load data\n",
    "    points = genfromtxt(\"data.csv\", delimiter = \",\")\n",
    "    # hyperparameters\n",
    "    learning_rate = 0.0001\n",
    "    # y = mx+b (slope formula)\n",
    "    initial_b = 0\n",
    "    initial_m = 0\n",
    "    num_iterations = 1000\n",
    "    \n",
    "    [b,m] = gradient_descent_runner(points, initial_b, initial_m, learning_rate, num_iterations)\n",
    "    \n",
    "    print(\"After {0} iterations, b = {1}, m = {1}, error = {1}\".format(num_iterations, b, m, compute_error_for_given_points(b, m, points)))\n",
    "\n",
    "\n",
    "if __name__ == '__main__':\n",
    "    run()"
   ]
  },
  {
   "cell_type": "code",
   "execution_count": null,
   "metadata": {
    "collapsed": true
   },
   "outputs": [],
   "source": []
  }
 ],
 "metadata": {
  "kernelspec": {
   "display_name": "Python [conda env:siraj-regression]",
   "language": "python",
   "name": "conda-env-siraj-regression-py"
  },
  "language_info": {
   "codemirror_mode": {
    "name": "ipython",
    "version": 2
   },
   "file_extension": ".py",
   "mimetype": "text/x-python",
   "name": "python",
   "nbconvert_exporter": "python",
   "pygments_lexer": "ipython2",
   "version": "2.7.13"
  }
 },
 "nbformat": 4,
 "nbformat_minor": 2
}
