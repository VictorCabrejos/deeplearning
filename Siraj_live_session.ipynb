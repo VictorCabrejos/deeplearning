{
 "cells": [
  {
   "cell_type": "markdown",
   "metadata": {},
   "source": [
    " Linear regression"
   ]
  },
  {
   "cell_type": "code",
   "execution_count": 23,
   "metadata": {
    "collapsed": false
   },
   "outputs": [
    {
     "name": "stdout",
     "output_type": "stream",
     "text": [
      "Starting gradient descent at b = 0, m= 0, error = 5565.10783448\n",
      "Running...\n",
      "After 1000 iterations, b = 0.0889365199374, m = 1.47774408519, error = 112.614810116\n"
     ]
    }
   ],
   "source": [
    "from numpy import *\n",
    "\n",
    "# y = mx + b\n",
    "# m = slope, b is y-intercept\n",
    "\n",
    "\n",
    "def compute_error_for_line_given_points(b, m, points):\n",
    "    \n",
    "    #initialize it at 0\n",
    "    totalError = 0\n",
    "    \n",
    "    #for every point\n",
    "    for i in range(0, len(points)):\n",
    "        #get the x value\n",
    "        x = points[i,0]\n",
    "        #get the y value\n",
    "        y = points[i,1]\n",
    "        \n",
    "        #get the difference, square it, add it to the total\n",
    "        totalError += (y - (m * x + b)) **2\n",
    "    \n",
    "    #get the average\n",
    "    return totalError/float(len(points))\n",
    "\n",
    "def step_gradient(b_current, m_current, points, learningRate):\n",
    "    \n",
    "    b_gradient = 0\n",
    "    m_gradient = 0\n",
    "    N = float(len(points))\n",
    "    \n",
    "    for i in range(0, len(points)):\n",
    "        x = points[i, 0]\n",
    "        y = points[i, 1]\n",
    "        #direction with respect to b and m\n",
    "        #computing partial derivatives of our error function\n",
    "        #partial derivatives gives you the direction\n",
    "        b_gradient += -(2/N) * (y - ((m_current * x) + b_current))\n",
    "        m_gradient += -(2/N) * x * (y - ((m_current * x) + b_current))\n",
    "    #update our b and m values using our partial derivatives\n",
    "    new_b = b_current - (learningRate * b_gradient)\n",
    "    new_m = m_current - (learningRate * m_gradient)\n",
    "    \n",
    "    return [new_b, new_m]\n",
    "      \n",
    "\n",
    "def gradient_descent_runner(points, starting_b, starting_m, learning_rate, num_iterations):\n",
    "    \n",
    "    #starting b and m\n",
    "    b = starting_b\n",
    "    m = starting_m\n",
    "    \n",
    "    #gradient descent\n",
    "    for i in range(num_iterations):\n",
    "        #update b and m with the new more accurate b and m by performing\n",
    "        #this gradient step\n",
    "        b, m = step_gradient(b, m, array(points), learning_rate)\n",
    "        \n",
    "    return [b,m]\n",
    "\n",
    "\n",
    "    \n",
    "def run():\n",
    "    #Step 1 - collect our data\n",
    "    points = genfromtxt(\"data.csv\", delimiter=\",\")\n",
    "    \n",
    "    #Step 2 - define our hyperparameters:\n",
    "    #how fast should our model converge?\n",
    "    learning_rate = 0.0001\n",
    "    \n",
    "    #y = mx + b (slope-y-intercept formula)\n",
    "    initial_b = 0 # initial y_intercept guess\n",
    "    initial_m = 0 # initial slope guess\n",
    "    num_iterations = 1000  \n",
    "    \n",
    "    #Step 3 - train our model\n",
    "    print(\"Starting gradient descent at b = {0}, m= {1}, error = {2}\".format(initial_b, initial_m, compute_error_for_line_given_points(initial_b, initial_m, points)))\n",
    "    print(\"Running...\")\n",
    "    [b,m] = gradient_descent_runner(points, initial_b, initial_m, learning_rate, num_iterations)  \n",
    "    \n",
    "    print(\"After {0} iterations, b = {1}, m = {2}, error = {3}\".format(num_iterations, b, m, compute_error_for_line_given_points(b, m, points)))\n",
    "\n",
    "if __name__ == '__main__':\n",
    "    run()"
   ]
  },
  {
   "cell_type": "code",
   "execution_count": null,
   "metadata": {
    "collapsed": true
   },
   "outputs": [],
   "source": []
  }
 ],
 "metadata": {
  "anaconda-cloud": {},
  "kernelspec": {
   "display_name": "Python [conda env:siraj-regression]",
   "language": "python",
   "name": "conda-env-siraj-regression-py"
  },
  "language_info": {
   "codemirror_mode": {
    "name": "ipython",
    "version": 2
   },
   "file_extension": ".py",
   "mimetype": "text/x-python",
   "name": "python",
   "nbconvert_exporter": "python",
   "pygments_lexer": "ipython2",
   "version": "2.7.13"
  }
 },
 "nbformat": 4,
 "nbformat_minor": 2
}
